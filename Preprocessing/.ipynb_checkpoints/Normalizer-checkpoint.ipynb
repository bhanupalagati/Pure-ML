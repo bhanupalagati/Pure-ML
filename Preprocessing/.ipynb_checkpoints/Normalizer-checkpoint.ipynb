{
 "cells": [
  {
   "cell_type": "markdown",
   "metadata": {},
   "source": [
    "# This is Bit different compared to Standardizers. Let's jot down\n",
    "1. This works on ROWS unlike standardizers which work on columns\n",
    "2. This is useful with sparse matrices like text classification\n",
    "3. The main aim of this fn is to make the\" l1 or l2 distance a unit which you will see\n",
    "\n",
    "# This doesn't require fit because we will always talk in rows when providing test data, and this also works with rows"
   ]
  },
  {
   "cell_type": "code",
   "execution_count": 2,
   "metadata": {},
   "outputs": [],
   "source": [
    "from sklearn import preprocessing"
   ]
  },
  {
   "cell_type": "code",
   "execution_count": 1,
   "metadata": {},
   "outputs": [],
   "source": [
    "arr = [[ 1, -1,  2], [ 2,  0,  0], [ 0,  1, -1]]"
   ]
  },
  {
   "cell_type": "code",
   "execution_count": 3,
   "metadata": {},
   "outputs": [
    {
     "data": {
      "text/plain": [
       "array([[ 0.40824829, -0.40824829,  0.81649658],\n",
       "       [ 1.        ,  0.        ,  0.        ],\n",
       "       [ 0.        ,  0.70710678, -0.70710678]])"
      ]
     },
     "execution_count": 3,
     "metadata": {},
     "output_type": "execute_result"
    }
   ],
   "source": [
    "# Applying the l2 norm and discription will come in below cell\n",
    "l2_normalized = preprocessing.normalize(arr, norm = 'l2')\n",
    "l2_normalized"
   ]
  },
  {
   "cell_type": "markdown",
   "metadata": {},
   "source": [
    "# Let's take the first row and break it\n",
    "[1, -1, 2] This resulted in [0.4082..., -0.40882..., 0.8164..] \n",
    "\n",
    "If we take sqrt((0.4082)Pow2 + (-0.40882)Pow2 + (0.8164)Pow2) it will result in 1.\n",
    "I will prove with code in next cell."
   ]
  },
  {
   "cell_type": "code",
   "execution_count": 4,
   "metadata": {},
   "outputs": [
    {
     "data": {
      "text/plain": [
       "1.0"
      ]
     },
     "execution_count": 4,
     "metadata": {},
     "output_type": "execute_result"
    }
   ],
   "source": [
    "import math\n",
    "res = 0\n",
    "for i in l2_normalized[0]:\n",
    "    res += i*i\n",
    "final = math.sqrt(res)\n",
    "final\n",
    "# Got me :)"
   ]
  },
  {
   "cell_type": "code",
   "execution_count": 5,
   "metadata": {},
   "outputs": [
    {
     "data": {
      "text/plain": [
       "array([[ 0.25, -0.25,  0.5 ],\n",
       "       [ 1.  ,  0.  ,  0.  ],\n",
       "       [ 0.  ,  0.5 , -0.5 ]])"
      ]
     },
     "execution_count": 5,
     "metadata": {},
     "output_type": "execute_result"
    }
   ],
   "source": [
    "# Applying the l1 norm and discription will come in below cell\n",
    "l1_normalized = preprocessing.normalize(arr, norm = 'l1')\n",
    "l1_normalized"
   ]
  },
  {
   "cell_type": "markdown",
   "metadata": {},
   "source": [
    "# Let's take the first row and break it\n",
    "[1, -1, 2] This resulted in [ 0.25, -0.25,  0.5 ]\n",
    "\n",
    "If we take |0.25| + |-0.25| + |0.5| it will result in 1."
   ]
  },
  {
   "cell_type": "markdown",
   "metadata": {},
   "source": [
    "# Hope you understood differece b/w Normalizer and Standardizer. On top of that you saw different Norms.\n",
    "\n",
    "If you want to see diferent standardizers follow the link below"
   ]
  },
  {
   "cell_type": "code",
   "execution_count": null,
   "metadata": {},
   "outputs": [],
   "source": []
  }
 ],
 "metadata": {
  "kernelspec": {
   "display_name": "Python",
   "language": "python",
   "name": "conda-env-python-py"
  },
  "language_info": {
   "codemirror_mode": {
    "name": "ipython",
    "version": 3
   },
   "file_extension": ".py",
   "mimetype": "text/x-python",
   "name": "python",
   "nbconvert_exporter": "python",
   "pygments_lexer": "ipython3",
   "version": "3.6.11"
  }
 },
 "nbformat": 4,
 "nbformat_minor": 4
}
